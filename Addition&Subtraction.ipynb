{
 "cells": [
  {
   "cell_type": "code",
   "execution_count": 49,
   "metadata": {},
   "outputs": [],
   "source": [
    "from keras.models import Sequential\n",
    "import numpy as np\n",
    "from six.moves import range\n",
    "from keras.layers import Dense\n",
    "from keras.layers import TimeDistributed\n",
    "from keras.layers import RepeatVector\n",
    "import matplotlib.pyplot as plt\n",
    "from keras import metrics\n",
    "from keras import layers\n",
    "import json"
   ]
  },
  {
   "cell_type": "markdown",
   "metadata": {},
   "source": [
    "# Parameters Config"
   ]
  },
  {
   "cell_type": "code",
   "execution_count": 33,
   "metadata": {},
   "outputs": [],
   "source": [
    "class colors:\n",
    "    ok = '\\033[92m'\n",
    "    fail = '\\033[91m'\n",
    "    close = '\\033[0m'"
   ]
  },
  {
   "cell_type": "code",
   "execution_count": 34,
   "metadata": {},
   "outputs": [],
   "source": [
    "TRAINING_SIZE = 80000\n",
    "DIGITS = 3\n",
    "REVERSE = False\n",
    "MAXLEN = DIGITS + 1 + DIGITS\n",
    "chars = '0123456789+- '\n",
    "RNN = layers.LSTM\n",
    "HIDDEN_SIZE = 128\n",
    "BATCH_SIZE = 128\n",
    "LAYERS = 1"
   ]
  },
  {
   "cell_type": "code",
   "execution_count": 35,
   "metadata": {},
   "outputs": [],
   "source": [
    "class CharacterTable(object):\n",
    "    def __init__(self, chars):\n",
    "        self.chars = sorted(set(chars))\n",
    "        self.char_indices = dict((c, i) for i, c in enumerate(self.chars))\n",
    "        self.indices_char = dict((i, c) for i, c in enumerate(self.chars))\n",
    "    \n",
    "    def encode(self, C, num_rows):\n",
    "        x = np.zeros((num_rows, len(self.chars)))\n",
    "        for i, c in enumerate(C):\n",
    "            x[i, self.char_indices[c]] = 1\n",
    "        return x\n",
    "    \n",
    "    def decode(self, x, calc_argmax=True):\n",
    "        if calc_argmax:\n",
    "            x = x.argmax(axis=-1)\n",
    "        return \"\".join(self.indices_char[i] for i in x)"
   ]
  },
  {
   "cell_type": "code",
   "execution_count": 36,
   "metadata": {},
   "outputs": [],
   "source": [
    "ctable = CharacterTable(chars)"
   ]
  },
  {
   "cell_type": "code",
   "execution_count": 37,
   "metadata": {},
   "outputs": [
    {
     "data": {
      "text/plain": [
       "{0: ' ',\n",
       " 1: '+',\n",
       " 2: '-',\n",
       " 3: '0',\n",
       " 4: '1',\n",
       " 5: '2',\n",
       " 6: '3',\n",
       " 7: '4',\n",
       " 8: '5',\n",
       " 9: '6',\n",
       " 10: '7',\n",
       " 11: '8',\n",
       " 12: '9'}"
      ]
     },
     "execution_count": 37,
     "metadata": {},
     "output_type": "execute_result"
    }
   ],
   "source": [
    "ctable.indices_char"
   ]
  },
  {
   "cell_type": "markdown",
   "metadata": {},
   "source": [
    "# Data Generation"
   ]
  },
  {
   "cell_type": "code",
   "execution_count": 38,
   "metadata": {},
   "outputs": [
    {
     "name": "stdout",
     "output_type": "stream",
     "text": [
      "Generating data...\n",
      "Total addition questions: 80000\n"
     ]
    }
   ],
   "source": [
    "questions = []\n",
    "expected = []\n",
    "seen = set()\n",
    "print('Generating data...')\n",
    "while len(questions) < TRAINING_SIZE:\n",
    "    f = lambda: int(''.join(np.random.choice(list('0123456789')) for i in range(np.random.randint(1, DIGITS + 1))))\n",
    "    a, b = f(), f()\n",
    "    op = np.random.choice(list('+-'))\n",
    "    key = tuple(sorted((a, b),reverse=True))\n",
    "    a,b = key[0],key[1]\n",
    "    if key in seen:\n",
    "        continue\n",
    "    seen.add(key)\n",
    "    if op == '+':\n",
    "        q = '{}+{}'.format(a, b)\n",
    "        ans = str(a + b)\n",
    "    else:\n",
    "        q = '{}-{}'.format(a, b)\n",
    "        ans = str(a - b)\n",
    "    query = q + ' ' * (MAXLEN - len(q))\n",
    "    ans += ' ' * (DIGITS + 1 - len(ans))\n",
    "    if REVERSE:\n",
    "        query = query[::-1]\n",
    "    questions.append(query)\n",
    "    expected.append(ans)\n",
    "print('Total addition questions:', len(questions))"
   ]
  },
  {
   "cell_type": "code",
   "execution_count": 39,
   "metadata": {},
   "outputs": [
    {
     "name": "stdout",
     "output_type": "stream",
     "text": [
      "['543+5  ', '82-5   ', '293-190', '85-2   ', '98+2   '] ['548 ', '77  ', '103 ', '83  ', '100 ']\n"
     ]
    }
   ],
   "source": [
    "print(questions[:5], expected[:5])"
   ]
  },
  {
   "cell_type": "markdown",
   "metadata": {},
   "source": [
    "# Processing"
   ]
  },
  {
   "cell_type": "code",
   "execution_count": 40,
   "metadata": {},
   "outputs": [
    {
     "name": "stdout",
     "output_type": "stream",
     "text": [
      "Vectorization...\n"
     ]
    }
   ],
   "source": [
    "print('Vectorization...')\n",
    "x = np.zeros((len(questions), MAXLEN, len(chars)), dtype=np.bool)\n",
    "y = np.zeros((len(expected), DIGITS + 1, len(chars)), dtype=np.bool)\n",
    "for i, sentence in enumerate(questions):\n",
    "    x[i] = ctable.encode(sentence, MAXLEN)\n",
    "for i, sentence in enumerate(expected):\n",
    "    y[i] = ctable.encode(sentence, DIGITS + 1)"
   ]
  },
  {
   "cell_type": "code",
   "execution_count": 41,
   "metadata": {},
   "outputs": [
    {
     "name": "stdout",
     "output_type": "stream",
     "text": [
      "Training Data:\n",
      "(36000, 7, 13)\n",
      "(36000, 4, 13)\n",
      "Validation Data:\n",
      "(4000, 7, 13)\n",
      "(4000, 4, 13)\n",
      "Testing Data:\n",
      "(40000, 7, 13)\n",
      "(40000, 4, 13)\n"
     ]
    }
   ],
   "source": [
    "indices = np.arange(len(y))\n",
    "np.random.shuffle(indices)\n",
    "x = x[indices]\n",
    "y = y[indices]\n",
    "\n",
    "# train_test_split\n",
    "train_x = x[:40000]\n",
    "train_y = y[:40000]\n",
    "test_x = x[40000:]\n",
    "test_y = y[40000:]\n",
    "\n",
    "split_at = len(train_x) - len(train_x) // 10\n",
    "(x_train, x_val) = train_x[:split_at], train_x[split_at:]\n",
    "(y_train, y_val) = train_y[:split_at], train_y[split_at:]\n",
    "\n",
    "print('Training Data:')\n",
    "print(x_train.shape)\n",
    "print(y_train.shape)\n",
    "\n",
    "print('Validation Data:')\n",
    "print(x_val.shape)\n",
    "print(y_val.shape)\n",
    "\n",
    "print('Testing Data:')\n",
    "print(test_x.shape)\n",
    "print(test_y.shape)"
   ]
  },
  {
   "cell_type": "code",
   "execution_count": 42,
   "metadata": {},
   "outputs": [
    {
     "name": "stdout",
     "output_type": "stream",
     "text": [
      "input:  [[[False False False False False False False  True False False False\n",
      "   False False]\n",
      "  [False False False False False False False False False False False\n",
      "   False  True]\n",
      "  [False False False False False  True False False False False False\n",
      "   False False]\n",
      "  [False False  True False False False False False False False False\n",
      "   False False]\n",
      "  [False False False False  True False False False False False False\n",
      "   False False]\n",
      "  [False False False  True False False False False False False False\n",
      "   False False]\n",
      "  [ True False False False False False False False False False False\n",
      "   False False]]\n",
      "\n",
      " [[False False False False False False False False False False False\n",
      "   False  True]\n",
      "  [False False False False False False False False False False False\n",
      "   False  True]\n",
      "  [False False False False False False False False False  True False\n",
      "   False False]\n",
      "  [False False  True False False False False False False False False\n",
      "   False False]\n",
      "  [False False False False False False False False False False False\n",
      "   False  True]\n",
      "  [False False False False False False False False  True False False\n",
      "   False False]\n",
      "  [ True False False False False False False False False False False\n",
      "   False False]]\n",
      "\n",
      " [[False False False False False False False False False False False\n",
      "   False  True]\n",
      "  [False False False False False False False False False False False\n",
      "    True False]\n",
      "  [False False False False  True False False False False False False\n",
      "   False False]\n",
      "  [False False  True False False False False False False False False\n",
      "   False False]\n",
      "  [False False False False False  True False False False False False\n",
      "   False False]\n",
      "  [ True False False False False False False False False False False\n",
      "   False False]\n",
      "  [ True False False False False False False False False False False\n",
      "   False False]]] \n",
      "\n",
      " label:  [[[False False False False False False False  True False False False\n",
      "   False False]\n",
      "  [False False False False False False False False False False False\n",
      "    True False]\n",
      "  [False False False False False  True False False False False False\n",
      "   False False]\n",
      "  [ True False False False False False False False False False False\n",
      "   False False]]\n",
      "\n",
      " [[False False False False False False False False False False False\n",
      "   False  True]\n",
      "  [False False False  True False False False False False False False\n",
      "   False False]\n",
      "  [False False False False  True False False False False False False\n",
      "   False False]\n",
      "  [ True False False False False False False False False False False\n",
      "   False False]]\n",
      "\n",
      " [[False False False False False False False False False False False\n",
      "   False  True]\n",
      "  [False False False False False False False False False False  True\n",
      "   False False]\n",
      "  [False False False False False False False False False False False\n",
      "   False  True]\n",
      "  [ True False False False False False False False False False False\n",
      "   False False]]]\n"
     ]
    }
   ],
   "source": [
    "print(\"input: \", x_train[:3], '\\n\\n', \"label: \", y_train[:3])"
   ]
  },
  {
   "cell_type": "markdown",
   "metadata": {},
   "source": [
    "# Build Model"
   ]
  },
  {
   "cell_type": "code",
   "execution_count": 43,
   "metadata": {
    "scrolled": true
   },
   "outputs": [
    {
     "name": "stdout",
     "output_type": "stream",
     "text": [
      "Build model...\n",
      "_________________________________________________________________\n",
      "Layer (type)                 Output Shape              Param #   \n",
      "=================================================================\n",
      "lstm_5 (LSTM)                (None, 100)               45600     \n",
      "_________________________________________________________________\n",
      "repeat_vector_3 (RepeatVecto (None, 4, 100)            0         \n",
      "_________________________________________________________________\n",
      "lstm_6 (LSTM)                (None, 4, 80)             57920     \n",
      "_________________________________________________________________\n",
      "time_distributed_3 (TimeDist (None, 4, 13)             1053      \n",
      "=================================================================\n",
      "Total params: 104,573\n",
      "Trainable params: 104,573\n",
      "Non-trainable params: 0\n",
      "_________________________________________________________________\n"
     ]
    }
   ],
   "source": [
    "from keras import metrics\n",
    "print('Build model...')\n",
    "\n",
    "############################################\n",
    "##### Build your own model here ############\n",
    "############################################\n",
    "model = Sequential()\n",
    "model.add(RNN(100, input_shape=(MAXLEN, len(chars))))\n",
    "model.add(RepeatVector(DIGITS+1))\n",
    "model.add(RNN(80, return_sequences=True))\n",
    "model.add(TimeDistributed(Dense(len(chars), activation='softmax')))\n",
    "model.compile(loss='categorical_crossentropy', optimizer='adam', metrics=['accuracy'])\n",
    "model.summary()"
   ]
  },
  {
   "cell_type": "markdown",
   "metadata": {},
   "source": [
    "# Training"
   ]
  },
  {
   "cell_type": "code",
   "execution_count": 44,
   "metadata": {
    "scrolled": false
   },
   "outputs": [
    {
     "name": "stdout",
     "output_type": "stream",
     "text": [
      "\n",
      "--------------------------------------------------\n",
      "Train on 36000 samples, validate on 4000 samples\n",
      "Epoch 1/100\n",
      "36000/36000 [==============================] - 7s 190us/step - loss: 1.9144 - acc: 0.3153 - val_loss: 1.8181 - val_acc: 0.3336\n",
      "Epoch 2/100\n",
      "36000/36000 [==============================] - 6s 159us/step - loss: 1.7433 - acc: 0.3485 - val_loss: 1.7024 - val_acc: 0.3660\n",
      "Epoch 3/100\n",
      "36000/36000 [==============================] - 6s 159us/step - loss: 1.6551 - acc: 0.3811 - val_loss: 1.6067 - val_acc: 0.4016\n",
      "Epoch 4/100\n",
      "36000/36000 [==============================] - 6s 158us/step - loss: 1.5646 - acc: 0.4166 - val_loss: 1.5257 - val_acc: 0.4303\n",
      "Epoch 5/100\n",
      "36000/36000 [==============================] - 6s 160us/step - loss: 1.4966 - acc: 0.4431 - val_loss: 1.4941 - val_acc: 0.4355\n",
      "Epoch 6/100\n",
      "36000/36000 [==============================] - 6s 159us/step - loss: 1.4494 - acc: 0.4579 - val_loss: 1.4261 - val_acc: 0.4691\n",
      "Epoch 7/100\n",
      "36000/36000 [==============================] - 6s 160us/step - loss: 1.4073 - acc: 0.4729 - val_loss: 1.3946 - val_acc: 0.4760\n",
      "Epoch 8/100\n",
      "36000/36000 [==============================] - 6s 160us/step - loss: 1.3724 - acc: 0.4850 - val_loss: 1.3592 - val_acc: 0.4866\n",
      "Epoch 9/100\n",
      "36000/36000 [==============================] - 6s 160us/step - loss: 1.3385 - acc: 0.5002 - val_loss: 1.3230 - val_acc: 0.5084\n",
      "Epoch 10/100\n",
      "36000/36000 [==============================] - 6s 159us/step - loss: 1.3088 - acc: 0.5125 - val_loss: 1.3066 - val_acc: 0.5148\n",
      "Epoch 11/100\n",
      "36000/36000 [==============================] - 6s 160us/step - loss: 1.2854 - acc: 0.5196 - val_loss: 1.2805 - val_acc: 0.5157\n",
      "Epoch 12/100\n",
      "36000/36000 [==============================] - 6s 160us/step - loss: 1.2645 - acc: 0.5271 - val_loss: 1.2567 - val_acc: 0.5303\n",
      "Epoch 13/100\n",
      "36000/36000 [==============================] - 6s 160us/step - loss: 1.2414 - acc: 0.5358 - val_loss: 1.2397 - val_acc: 0.5360\n",
      "Epoch 14/100\n",
      "36000/36000 [==============================] - 6s 159us/step - loss: 1.2250 - acc: 0.5415 - val_loss: 1.2135 - val_acc: 0.5488\n",
      "Epoch 15/100\n",
      "36000/36000 [==============================] - 6s 159us/step - loss: 1.2042 - acc: 0.5501 - val_loss: 1.2042 - val_acc: 0.5476\n",
      "Epoch 16/100\n",
      "36000/36000 [==============================] - 6s 159us/step - loss: 1.1904 - acc: 0.5546 - val_loss: 1.1863 - val_acc: 0.5520\n",
      "Epoch 17/100\n",
      "36000/36000 [==============================] - 6s 159us/step - loss: 1.1713 - acc: 0.5634 - val_loss: 1.1693 - val_acc: 0.5615\n",
      "Epoch 18/100\n",
      "36000/36000 [==============================] - 6s 160us/step - loss: 1.1533 - acc: 0.5691 - val_loss: 1.1590 - val_acc: 0.5586\n",
      "Epoch 19/100\n",
      "36000/36000 [==============================] - 6s 161us/step - loss: 1.1361 - acc: 0.5754 - val_loss: 1.1313 - val_acc: 0.5738\n",
      "Epoch 20/100\n",
      "36000/36000 [==============================] - 6s 161us/step - loss: 1.1126 - acc: 0.5839 - val_loss: 1.1108 - val_acc: 0.5787\n",
      "Epoch 21/100\n",
      "36000/36000 [==============================] - 6s 159us/step - loss: 1.0911 - acc: 0.5898 - val_loss: 1.0847 - val_acc: 0.5917\n",
      "Epoch 22/100\n",
      "36000/36000 [==============================] - 6s 160us/step - loss: 1.0668 - acc: 0.5997 - val_loss: 1.0890 - val_acc: 0.5864\n",
      "Epoch 23/100\n",
      "36000/36000 [==============================] - 6s 166us/step - loss: 1.0445 - acc: 0.6062 - val_loss: 1.0676 - val_acc: 0.5909\n",
      "Epoch 24/100\n",
      "36000/36000 [==============================] - 6s 167us/step - loss: 1.0179 - acc: 0.6171 - val_loss: 1.0243 - val_acc: 0.6096\n",
      "Epoch 25/100\n",
      "36000/36000 [==============================] - 6s 165us/step - loss: 0.9966 - acc: 0.6243 - val_loss: 1.0162 - val_acc: 0.6086\n",
      "Epoch 26/100\n",
      "36000/36000 [==============================] - 6s 164us/step - loss: 0.9732 - acc: 0.6324 - val_loss: 0.9904 - val_acc: 0.6206\n",
      "Epoch 27/100\n",
      "36000/36000 [==============================] - 6s 171us/step - loss: 0.9513 - acc: 0.6407 - val_loss: 0.9682 - val_acc: 0.6283\n",
      "Epoch 28/100\n",
      "36000/36000 [==============================] - 6s 170us/step - loss: 0.9344 - acc: 0.6464 - val_loss: 0.9435 - val_acc: 0.6393\n",
      "Epoch 29/100\n",
      "36000/36000 [==============================] - 6s 180us/step - loss: 0.9132 - acc: 0.6543 - val_loss: 0.9312 - val_acc: 0.6408\n",
      "Epoch 30/100\n",
      "36000/36000 [==============================] - 7s 191us/step - loss: 0.8967 - acc: 0.6613 - val_loss: 0.9276 - val_acc: 0.6412\n",
      "Epoch 31/100\n",
      "36000/36000 [==============================] - 6s 175us/step - loss: 0.8821 - acc: 0.6665 - val_loss: 0.8970 - val_acc: 0.6557\n",
      "Epoch 32/100\n",
      "36000/36000 [==============================] - 6s 173us/step - loss: 0.8650 - acc: 0.6731 - val_loss: 0.9043 - val_acc: 0.6473\n",
      "Epoch 33/100\n",
      "36000/36000 [==============================] - 6s 171us/step - loss: 0.8522 - acc: 0.6782 - val_loss: 0.8791 - val_acc: 0.6581\n",
      "Epoch 34/100\n",
      "36000/36000 [==============================] - 6s 164us/step - loss: 0.8360 - acc: 0.6852 - val_loss: 0.8556 - val_acc: 0.6744\n",
      "Epoch 35/100\n",
      "36000/36000 [==============================] - 6s 167us/step - loss: 0.8264 - acc: 0.6892 - val_loss: 0.8612 - val_acc: 0.6687\n",
      "Epoch 36/100\n",
      "36000/36000 [==============================] - 6s 164us/step - loss: 0.8135 - acc: 0.6941 - val_loss: 0.8543 - val_acc: 0.6703\n",
      "Epoch 37/100\n",
      "36000/36000 [==============================] - 6s 164us/step - loss: 0.8022 - acc: 0.6982 - val_loss: 0.8401 - val_acc: 0.6763\n",
      "Epoch 38/100\n",
      "36000/36000 [==============================] - 6s 162us/step - loss: 0.7921 - acc: 0.7030 - val_loss: 0.8253 - val_acc: 0.6811\n",
      "Epoch 39/100\n",
      "36000/36000 [==============================] - 6s 164us/step - loss: 0.7789 - acc: 0.7089 - val_loss: 0.8276 - val_acc: 0.6790\n",
      "Epoch 40/100\n",
      "36000/36000 [==============================] - 6s 166us/step - loss: 0.7724 - acc: 0.7110 - val_loss: 0.8054 - val_acc: 0.6920 - ETA: 1s - loss: 0.7730 - ETA: 0s - loss: 0.7726 - acc: 0.7\n",
      "Epoch 41/100\n",
      "36000/36000 [==============================] - 6s 166us/step - loss: 0.7642 - acc: 0.7149 - val_loss: 0.7965 - val_acc: 0.6977\n",
      "Epoch 42/100\n",
      "36000/36000 [==============================] - 6s 167us/step - loss: 0.7536 - acc: 0.7199 - val_loss: 0.8118 - val_acc: 0.6828- loss: 0\n",
      "Epoch 43/100\n",
      "36000/36000 [==============================] - 6s 169us/step - loss: 0.7468 - acc: 0.7223 - val_loss: 0.7900 - val_acc: 0.6953\n",
      "Epoch 44/100\n",
      "36000/36000 [==============================] - 6s 164us/step - loss: 0.7395 - acc: 0.7243 - val_loss: 0.7781 - val_acc: 0.7019\n",
      "Epoch 45/100\n",
      "36000/36000 [==============================] - 6s 165us/step - loss: 0.7298 - acc: 0.7299 - val_loss: 0.7692 - val_acc: 0.7052\n",
      "Epoch 46/100\n",
      "36000/36000 [==============================] - 6s 166us/step - loss: 0.7219 - acc: 0.7323 - val_loss: 0.7631 - val_acc: 0.7067\n",
      "Epoch 47/100\n",
      "36000/36000 [==============================] - 6s 165us/step - loss: 0.7181 - acc: 0.7333 - val_loss: 0.7618 - val_acc: 0.7077\n",
      "Epoch 48/100\n",
      "36000/36000 [==============================] - 6s 166us/step - loss: 0.7087 - acc: 0.7368 - val_loss: 0.7660 - val_acc: 0.7040\n",
      "Epoch 49/100\n",
      "36000/36000 [==============================] - 6s 164us/step - loss: 0.7036 - acc: 0.7385 - val_loss: 0.7464 - val_acc: 0.7148\n",
      "Epoch 50/100\n",
      "36000/36000 [==============================] - 6s 165us/step - loss: 0.6887 - acc: 0.7454 - val_loss: 0.7377 - val_acc: 0.7183\n",
      "Epoch 51/100\n",
      "36000/36000 [==============================] - 6s 165us/step - loss: 0.6851 - acc: 0.7454 - val_loss: 0.7326 - val_acc: 0.7198\n",
      "Epoch 52/100\n",
      "36000/36000 [==============================] - 6s 164us/step - loss: 0.6707 - acc: 0.7522 - val_loss: 0.7281 - val_acc: 0.7191\n",
      "Epoch 53/100\n",
      "36000/36000 [==============================] - 6s 164us/step - loss: 0.6593 - acc: 0.7552 - val_loss: 0.7176 - val_acc: 0.7224\n",
      "Epoch 54/100\n",
      "36000/36000 [==============================] - 6s 166us/step - loss: 0.6471 - acc: 0.7597 - val_loss: 0.6948 - val_acc: 0.7306\n",
      "Epoch 55/100\n",
      "36000/36000 [==============================] - 6s 166us/step - loss: 0.6283 - acc: 0.7658 - val_loss: 0.6871 - val_acc: 0.7347\n",
      "Epoch 56/100\n",
      "36000/36000 [==============================] - 6s 164us/step - loss: 0.6141 - acc: 0.7704 - val_loss: 0.6669 - val_acc: 0.7418\n",
      "Epoch 57/100\n",
      "36000/36000 [==============================] - 6s 166us/step - loss: 0.5909 - acc: 0.7782 - val_loss: 0.6475 - val_acc: 0.7478\n",
      "Epoch 58/100\n",
      "36000/36000 [==============================] - 6s 166us/step - loss: 0.5645 - acc: 0.7864 - val_loss: 0.6137 - val_acc: 0.7549\n",
      "Epoch 59/100\n",
      "36000/36000 [==============================] - 6s 163us/step - loss: 0.5381 - acc: 0.7960 - val_loss: 0.5803 - val_acc: 0.7688\n",
      "Epoch 60/100\n",
      "36000/36000 [==============================] - 6s 160us/step - loss: 0.4992 - acc: 0.8118 - val_loss: 0.5414 - val_acc: 0.7816\n",
      "Epoch 61/100\n",
      "36000/36000 [==============================] - 6s 161us/step - loss: 0.4677 - acc: 0.8254 - val_loss: 0.4995 - val_acc: 0.8053\n",
      "Epoch 62/100\n",
      "36000/36000 [==============================] - 7s 190us/step - loss: 0.4326 - acc: 0.8416 - val_loss: 0.4740 - val_acc: 0.8141\n",
      "Epoch 63/100\n",
      "36000/36000 [==============================] - 6s 174us/step - loss: 0.4048 - acc: 0.8546 - val_loss: 0.4434 - val_acc: 0.8338\n",
      "Epoch 64/100\n",
      "36000/36000 [==============================] - 6s 172us/step - loss: 0.3734 - acc: 0.8687 - val_loss: 0.4160 - val_acc: 0.8451\n",
      "Epoch 65/100\n",
      "36000/36000 [==============================] - 6s 177us/step - loss: 0.3562 - acc: 0.8772 - val_loss: 0.4174 - val_acc: 0.8445\n",
      "Epoch 66/100\n",
      "36000/36000 [==============================] - 6s 174us/step - loss: 0.3273 - acc: 0.8898 - val_loss: 0.3675 - val_acc: 0.86430.3273 - acc: 0.\n",
      "Epoch 67/100\n",
      "36000/36000 [==============================] - 7s 181us/step - loss: 0.3065 - acc: 0.8993 - val_loss: 0.3492 - val_acc: 0.8744\n",
      "Epoch 68/100\n",
      "36000/36000 [==============================] - 6s 165us/step - loss: 0.2835 - acc: 0.9093 - val_loss: 0.3367 - val_acc: 0.8801\n",
      "Epoch 69/100\n",
      "36000/36000 [==============================] - 6s 164us/step - loss: 0.2678 - acc: 0.9152 - val_loss: 0.3246 - val_acc: 0.8810\n",
      "Epoch 70/100\n",
      "36000/36000 [==============================] - 6s 164us/step - loss: 0.2547 - acc: 0.9205 - val_loss: 0.2874 - val_acc: 0.8998\n",
      "Epoch 71/100\n",
      "36000/36000 [==============================] - 6s 163us/step - loss: 0.2337 - acc: 0.9294 - val_loss: 0.2707 - val_acc: 0.9065\n",
      "Epoch 72/100\n",
      "36000/36000 [==============================] - 6s 166us/step - loss: 0.2198 - acc: 0.9344 - val_loss: 0.2584 - val_acc: 0.90881s - los\n",
      "Epoch 73/100\n",
      "36000/36000 [==============================] - 6s 166us/step - loss: 0.2106 - acc: 0.9367 - val_loss: 0.2818 - val_acc: 0.8983\n",
      "Epoch 74/100\n",
      "36000/36000 [==============================] - 6s 164us/step - loss: 0.1943 - acc: 0.9428 - val_loss: 0.2497 - val_acc: 0.9133\n",
      "Epoch 75/100\n",
      "36000/36000 [==============================] - 6s 166us/step - loss: 0.1764 - acc: 0.9508 - val_loss: 0.2271 - val_acc: 0.9227\n",
      "Epoch 76/100\n",
      "36000/36000 [==============================] - 6s 166us/step - loss: 0.1727 - acc: 0.9504 - val_loss: 0.2209 - val_acc: 0.9212\n",
      "Epoch 77/100\n",
      "36000/36000 [==============================] - 6s 165us/step - loss: 0.1692 - acc: 0.9512 - val_loss: 0.2201 - val_acc: 0.9234\n",
      "Epoch 78/100\n",
      "36000/36000 [==============================] - 6s 164us/step - loss: 0.1536 - acc: 0.9560 - val_loss: 0.1919 - val_acc: 0.9341\n",
      "Epoch 79/100\n",
      "36000/36000 [==============================] - 6s 165us/step - loss: 0.1437 - acc: 0.9599 - val_loss: 0.1838 - val_acc: 0.9341\n",
      "Epoch 80/100\n",
      "36000/36000 [==============================] - 6s 165us/step - loss: 0.1379 - acc: 0.9611 - val_loss: 0.1845 - val_acc: 0.9370\n",
      "Epoch 81/100\n",
      "36000/36000 [==============================] - 6s 166us/step - loss: 0.1356 - acc: 0.9612 - val_loss: 0.1778 - val_acc: 0.9406\n",
      "Epoch 82/100\n",
      "36000/36000 [==============================] - 6s 165us/step - loss: 0.1182 - acc: 0.9687 - val_loss: 0.1683 - val_acc: 0.9416\n",
      "Epoch 83/100\n",
      "36000/36000 [==============================] - 6s 165us/step - loss: 0.1116 - acc: 0.9709 - val_loss: 0.1548 - val_acc: 0.9470\n",
      "Epoch 84/100\n",
      "36000/36000 [==============================] - 6s 165us/step - loss: 0.1116 - acc: 0.9700 - val_loss: 0.1638 - val_acc: 0.9412\n",
      "Epoch 85/100\n",
      "36000/36000 [==============================] - 6s 165us/step - loss: 0.1079 - acc: 0.9706 - val_loss: 0.1829 - val_acc: 0.9343\n",
      "Epoch 86/100\n",
      "36000/36000 [==============================] - 6s 165us/step - loss: 0.0999 - acc: 0.9725 - val_loss: 0.1563 - val_acc: 0.9457\n",
      "Epoch 87/100\n",
      "36000/36000 [==============================] - 6s 165us/step - loss: 0.1079 - acc: 0.9692 - val_loss: 0.1386 - val_acc: 0.9527\n",
      "Epoch 88/100\n",
      "36000/36000 [==============================] - 6s 166us/step - loss: 0.0872 - acc: 0.9774 - val_loss: 0.1392 - val_acc: 0.9499\n",
      "Epoch 89/100\n",
      "36000/36000 [==============================] - 6s 170us/step - loss: 0.1005 - acc: 0.9716 - val_loss: 0.1298 - val_acc: 0.9541\n",
      "Epoch 90/100\n",
      "36000/36000 [==============================] - 6s 165us/step - loss: 0.0777 - acc: 0.9807 - val_loss: 0.1254 - val_acc: 0.9557\n",
      "Epoch 91/100\n",
      "36000/36000 [==============================] - 6s 164us/step - loss: 0.0727 - acc: 0.9828 - val_loss: 0.1273 - val_acc: 0.9541\n",
      "Epoch 92/100\n",
      "36000/36000 [==============================] - 6s 163us/step - loss: 0.0836 - acc: 0.9766 - val_loss: 0.1297 - val_acc: 0.9554\n",
      "Epoch 93/100\n",
      "36000/36000 [==============================] - 6s 167us/step - loss: 0.0778 - acc: 0.9793 - val_loss: 0.1552 - val_acc: 0.9463\n",
      "Epoch 94/100\n",
      "36000/36000 [==============================] - 6s 164us/step - loss: 0.0753 - acc: 0.9796 - val_loss: 0.1420 - val_acc: 0.9506\n",
      "Epoch 95/100\n",
      "36000/36000 [==============================] - 6s 164us/step - loss: 0.0772 - acc: 0.9785 - val_loss: 0.1169 - val_acc: 0.9601\n",
      "Epoch 96/100\n",
      "36000/36000 [==============================] - 6s 165us/step - loss: 0.0600 - acc: 0.9858 - val_loss: 0.1207 - val_acc: 0.9570\n",
      "Epoch 97/100\n",
      "36000/36000 [==============================] - 6s 166us/step - loss: 0.0620 - acc: 0.9842 - val_loss: 0.1100 - val_acc: 0.9624\n",
      "Epoch 98/100\n",
      "36000/36000 [==============================] - 6s 165us/step - loss: 0.0575 - acc: 0.9857 - val_loss: 0.1163 - val_acc: 0.9590\n",
      "Epoch 99/100\n",
      "36000/36000 [==============================] - 6s 165us/step - loss: 0.0782 - acc: 0.9767 - val_loss: 0.1150 - val_acc: 0.9589\n",
      "Epoch 100/100\n",
      "36000/36000 [==============================] - 6s 167us/step - loss: 0.0689 - acc: 0.9806 - val_loss: 0.1068 - val_acc: 0.9606\n"
     ]
    }
   ],
   "source": [
    "print()\n",
    "print('-' * 50)\n",
    "#print('Iteration', iteration)\n",
    "result = model.fit(x_train, y_train,\n",
    "            batch_size=BATCH_SIZE,\n",
    "            epochs=100,\n",
    "            validation_data=(x_val, y_val))\n",
    "def print_result():    \n",
    "    for i in range(10):\n",
    "        ind = np.random.randint(0, len(x_val))\n",
    "        rowx, rowy = x_val[np.array([ind])], y_val[np.array([ind])]\n",
    "        preds = model.predict_classes(rowx, verbose=0)\n",
    "        q = ctable.decode(rowx[0])\n",
    "        correct = ctable.decode(rowy[0])\n",
    "        guess = ctable.decode(preds[0], calc_argmax=False)\n",
    "        print('Q', q[::-1] if REVERSE else q, end=' ')\n",
    "        print('T', correct, end=' ')\n",
    "        if correct == guess:\n",
    "            print(colors.ok + '☑' + colors.close, end=' ')\n",
    "        else:\n",
    "            print(colors.fail + '☒' + colors.close, end=' ')\n",
    "        print(guess)"
   ]
  },
  {
   "cell_type": "code",
   "execution_count": 45,
   "metadata": {},
   "outputs": [],
   "source": [
    "with open('DIGIT-3(add$sub,training_size = 36000).json','w') as f:\n",
    "    json.dump(result.history,f)"
   ]
  },
  {
   "cell_type": "markdown",
   "metadata": {},
   "source": [
    "# Testing"
   ]
  },
  {
   "cell_type": "code",
   "execution_count": 47,
   "metadata": {},
   "outputs": [
    {
     "name": "stdout",
     "output_type": "stream",
     "text": [
      "MSG : Prediction\n",
      "0\n",
      "1000\n",
      "2000\n",
      "3000\n",
      "4000\n",
      "5000\n",
      "6000\n",
      "7000\n",
      "8000\n",
      "9000\n",
      "10000\n",
      "11000\n",
      "12000\n",
      "13000\n",
      "14000\n",
      "15000\n",
      "16000\n",
      "17000\n",
      "18000\n",
      "19000\n",
      "20000\n",
      "21000\n",
      "22000\n",
      "23000\n",
      "24000\n",
      "25000\n",
      "26000\n",
      "27000\n",
      "28000\n",
      "29000\n",
      "30000\n",
      "31000\n",
      "32000\n",
      "33000\n",
      "34000\n",
      "35000\n",
      "36000\n",
      "37000\n",
      "38000\n",
      "39000\n",
      "Accuracy:  0.860725\n"
     ]
    }
   ],
   "source": [
    "print(\"MSG : Prediction\")\n",
    "#####################################################\n",
    "## Try to test and evaluate your model ##############\n",
    "## ex. test_x = [\"555+175\", \"860+7  \", \"340+29 \"]\n",
    "## ex. test_y = [\"730 \", \"867 \", \"369 \"] \n",
    "#####################################################\n",
    "accur = 0 \n",
    "for i in range(len(test_x)):\n",
    "    ind = i\n",
    "    rowx, rowy = test_x[np.array([ind])], test_y[np.array([ind])]\n",
    "    preds = model.predict_classes(rowx, verbose=0)\n",
    "    q = ctable.decode(rowx[0])\n",
    "    correct = ctable.decode(rowy[0])\n",
    "    guess = ctable.decode(preds[0], calc_argmax=False)\n",
    "    if i % 1000 == 0:\n",
    "        print(i)\n",
    "    if correct == guess:\n",
    "        accur += 1\n",
    "accur = accur / len(test_x)\n",
    "print(\"Accuracy: \",accur)"
   ]
  },
  {
   "cell_type": "code",
   "execution_count": 48,
   "metadata": {},
   "outputs": [],
   "source": [
    "fp = open(\"Accuracy(add$sub,training_size = 36000).txt\", \"a\")\n",
    "fp.write(str(accur)+'\\n')\n",
    "fp.close()"
   ]
  },
  {
   "cell_type": "markdown",
   "metadata": {},
   "source": [
    "# Analysis of Same Digits and Different Training Data Size\n",
    "### 1.Training data size = 18000\n",
    "### 2.Validation data size = 2000\n",
    "### 3.Test data size = 60000"
   ]
  },
  {
   "cell_type": "code",
   "execution_count": 57,
   "metadata": {},
   "outputs": [],
   "source": [
    "with open('DIGIT-3(add$sub,training_size = 18000).json','r') as f:\n",
    "    result = json.load(f)"
   ]
  },
  {
   "cell_type": "code",
   "execution_count": 60,
   "metadata": {
    "scrolled": true
   },
   "outputs": [
    {
     "data": {
      "image/png": "[encoded data removed]",
      "text/plain": [
       "<Figure size 1440x720 with 1 Axes>"
      ]
     },
     "metadata": {},
     "output_type": "display_data"
    }
   ],
   "source": [
    "plt.figure(figsize=(20,10))\n",
    "acc = result['acc']\n",
    "val_acc = result['val_acc']\n",
    "plt.plot(acc, label='Training accuracy of 3 digit')\n",
    "plt.plot(val_acc, label='Validation accuracy of 3 digit')\n",
    "plt.title('Accuracy',fontsize=16)\n",
    "plt.xlabel('Epochs', fontsize=16)\n",
    "plt.ylabel('Accuracy', fontsize=16)\n",
    "plt.legend(fontsize=14)\n",
    "plt.show()"
   ]
  },
  {
   "cell_type": "code",
   "execution_count": 62,
   "metadata": {},
   "outputs": [
    {
     "name": "stdout",
     "output_type": "stream",
     "text": [
      "Test accuracy of 3 digit is  0.19663333333333333\n"
     ]
    }
   ],
   "source": [
    "Accuracy_data = open('Accuracy(add$sub,training_size = 18000).txt','r')\n",
    "io = Accuracy_data.readlines()\n",
    "print(\"Test accuracy of 3 digit is \",io[0][:-1])"
   ]
  },
  {
   "cell_type": "markdown",
   "metadata": {},
   "source": [
    "## Conclusion\n",
    "- 有 overfitting 的情況發生"
   ]
  },
  {
   "cell_type": "markdown",
   "metadata": {},
   "source": [
    "## 1.Training data size = 36000\n",
    "## 2.Validation data size = 4000\n",
    "## 3.Test data size = 40000"
   ]
  },
  {
   "cell_type": "code",
   "execution_count": 63,
   "metadata": {},
   "outputs": [],
   "source": [
    "with open('DIGIT-3(add$sub,training_size = 36000).json','r') as f:\n",
    "    result = json.load(f)"
   ]
  },
  {
   "cell_type": "code",
   "execution_count": 64,
   "metadata": {
    "scrolled": true
   },
   "outputs": [
    {
     "data": {
      "image/png": "[encoded data removed]",
      "text/plain": [
       "<Figure size 1440x720 with 1 Axes>"
      ]
     },
     "metadata": {},
     "output_type": "display_data"
    }
   ],
   "source": [
    "plt.figure(figsize=(20,10))\n",
    "acc = result['acc']\n",
    "val_acc = result['val_acc']\n",
    "plt.plot(acc, label='Training accuracy of 3 digit')\n",
    "plt.plot(val_acc, label='Validation accuracy of 3 digit')\n",
    "plt.title('Accuracy',fontsize=16)\n",
    "plt.xlabel('Epochs', fontsize=16)\n",
    "plt.ylabel('Accuracy', fontsize=16)\n",
    "plt.legend(fontsize=14)\n",
    "plt.show()"
   ]
  },
  {
   "cell_type": "code",
   "execution_count": 66,
   "metadata": {},
   "outputs": [
    {
     "name": "stdout",
     "output_type": "stream",
     "text": [
      "Test accuracy of 3 digit is  0.860725\n"
     ]
    }
   ],
   "source": [
    "Accuracy_data = open('Accuracy(add$sub,training_size = 36000).txt','r')\n",
    "io = Accuracy_data.readlines()\n",
    "print(\"Test accuracy of 3 digit is \",io[0][:-1])"
   ]
  },
  {
   "cell_type": "markdown",
   "metadata": {},
   "source": [
    "## Conclusion\n",
    "- 隨著 training data size 變大，accuracy 也上升許多，overfitting 的情況也解決了。"
   ]
  }
 ],
 "metadata": {
  "kernelspec": {
   "display_name": "Python 3",
   "language": "python",
   "name": "python3"
  },
  "language_info": {
   "codemirror_mode": {
    "name": "ipython",
    "version": 3
   },
   "file_extension": ".py",
   "mimetype": "text/x-python",
   "name": "python",
   "nbconvert_exporter": "python",
   "pygments_lexer": "ipython3",
   "version": "3.6.5"
  }
 },
 "nbformat": 4,
 "nbformat_minor": 2
}
