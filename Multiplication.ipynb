{
 "cells": [
  {
   "cell_type": "code",
   "execution_count": 38,
   "metadata": {},
   "outputs": [],
   "source": [
    "from keras.models import Sequential\n",
    "import numpy as np\n",
    "from keras import layers\n",
    "from six.moves import range\n",
    "from keras.layers import Dense\n",
    "from keras.layers import TimeDistributed\n",
    "from keras.layers import RepeatVector\n",
    "import json\n",
    "import matplotlib.pyplot as plt"
   ]
  },
  {
   "cell_type": "markdown",
   "metadata": {},
   "source": [
    "# Parameters Config"
   ]
  },
  {
   "cell_type": "code",
   "execution_count": 39,
   "metadata": {},
   "outputs": [],
   "source": [
    "class colors:\n",
    "    ok = '\\033[92m'\n",
    "    fail = '\\033[91m'\n",
    "    close = '\\033[0m'"
   ]
  },
  {
   "cell_type": "code",
   "execution_count": 40,
   "metadata": {},
   "outputs": [],
   "source": [
    "TRAINING_SIZE = 80000\n",
    "DIGITS = 3\n",
    "REVERSE = False\n",
    "MAXLEN = DIGITS + 1 + DIGITS\n",
    "chars = '0123456789* '\n",
    "RNN = layers.LSTM\n",
    "HIDDEN_SIZE = 128\n",
    "BATCH_SIZE = 128\n",
    "LAYERS = 1"
   ]
  },
  {
   "cell_type": "code",
   "execution_count": 41,
   "metadata": {},
   "outputs": [],
   "source": [
    "class CharacterTable(object):\n",
    "    def __init__(self, chars):\n",
    "        self.chars = sorted(set(chars))\n",
    "        self.char_indices = dict((c, i) for i, c in enumerate(self.chars))\n",
    "        self.indices_char = dict((i, c) for i, c in enumerate(self.chars))\n",
    "    \n",
    "    def encode(self, C, num_rows):\n",
    "        x = np.zeros((num_rows, len(self.chars)))\n",
    "        for i, c in enumerate(C):\n",
    "            x[i, self.char_indices[c]] = 1\n",
    "        return x\n",
    "    \n",
    "    def decode(self, x, calc_argmax=True):\n",
    "        if calc_argmax:\n",
    "            x = x.argmax(axis=-1)\n",
    "        return \"\".join(self.indices_char[i] for i in x)"
   ]
  },
  {
   "cell_type": "code",
   "execution_count": 42,
   "metadata": {},
   "outputs": [],
   "source": [
    "ctable = CharacterTable(chars)"
   ]
  },
  {
   "cell_type": "code",
   "execution_count": 43,
   "metadata": {},
   "outputs": [
    {
     "data": {
      "text/plain": [
       "{0: ' ',\n",
       " 1: '*',\n",
       " 2: '0',\n",
       " 3: '1',\n",
       " 4: '2',\n",
       " 5: '3',\n",
       " 6: '4',\n",
       " 7: '5',\n",
       " 8: '6',\n",
       " 9: '7',\n",
       " 10: '8',\n",
       " 11: '9'}"
      ]
     },
     "execution_count": 43,
     "metadata": {},
     "output_type": "execute_result"
    }
   ],
   "source": [
    "ctable.indices_char"
   ]
  },
  {
   "cell_type": "markdown",
   "metadata": {},
   "source": [
    "# Data Generation"
   ]
  },
  {
   "cell_type": "code",
   "execution_count": 44,
   "metadata": {},
   "outputs": [
    {
     "name": "stdout",
     "output_type": "stream",
     "text": [
      "Generating data...\n",
      "Total addition questions: 80000\n"
     ]
    }
   ],
   "source": [
    "questions = []\n",
    "expected = []\n",
    "seen = set()\n",
    "print('Generating data...')\n",
    "while len(questions) < TRAINING_SIZE:\n",
    "    f = lambda: int(''.join(np.random.choice(list('0123456789')) for i in range(np.random.randint(1, DIGITS + 1))))\n",
    "    a, b = f(), f()\n",
    "    key = tuple(sorted((a, b),reverse=True))\n",
    "    a,b = key[0],key[1]\n",
    "    if key in seen:\n",
    "        continue\n",
    "    seen.add(key)\n",
    "    q = '{}*{}'.format(a, b)\n",
    "    query = q + ' ' * (MAXLEN - len(q))\n",
    "    ans = str(a * b)\n",
    "    ans += ' ' * (DIGITS * 2 - len(ans))\n",
    "    if REVERSE:\n",
    "        query = query[::-1]\n",
    "    questions.append(query)\n",
    "    expected.append(ans)\n",
    "print('Total addition questions:', len(questions))"
   ]
  },
  {
   "cell_type": "code",
   "execution_count": 45,
   "metadata": {},
   "outputs": [
    {
     "name": "stdout",
     "output_type": "stream",
     "text": [
      "['690*464', '57*1   ', '8*5    ', '40*4   ', '459*2  '] ['320160', '57    ', '40    ', '160   ', '918   ']\n"
     ]
    }
   ],
   "source": [
    "print(questions[:5], expected[:5])"
   ]
  },
  {
   "cell_type": "markdown",
   "metadata": {},
   "source": [
    "# Processing"
   ]
  },
  {
   "cell_type": "code",
   "execution_count": 46,
   "metadata": {},
   "outputs": [
    {
     "name": "stdout",
     "output_type": "stream",
     "text": [
      "Vectorization...\n"
     ]
    }
   ],
   "source": [
    "print('Vectorization...')\n",
    "x = np.zeros((len(questions), MAXLEN, len(chars)), dtype=np.bool)\n",
    "y = np.zeros((len(expected), DIGITS * 2, len(chars)), dtype=np.bool)\n",
    "for i, sentence in enumerate(questions):\n",
    "    x[i] = ctable.encode(sentence, MAXLEN)\n",
    "for i, sentence in enumerate(expected):\n",
    "    y[i] = ctable.encode(sentence, DIGITS * 2)"
   ]
  },
  {
   "cell_type": "code",
   "execution_count": 47,
   "metadata": {},
   "outputs": [
    {
     "name": "stdout",
     "output_type": "stream",
     "text": [
      "Training Data:\n",
      "(36000, 7, 12)\n",
      "(36000, 6, 12)\n",
      "Validation Data:\n",
      "(4000, 7, 12)\n",
      "(4000, 6, 12)\n",
      "Testing Data:\n",
      "(40000, 7, 12)\n",
      "(40000, 6, 12)\n"
     ]
    }
   ],
   "source": [
    "indices = np.arange(len(y))\n",
    "np.random.shuffle(indices)\n",
    "x = x[indices]\n",
    "y = y[indices]\n",
    "\n",
    "# train_test_split\n",
    "train_x = x[:40000]\n",
    "train_y = y[:40000]\n",
    "test_x = x[40000:]\n",
    "test_y = y[40000:]\n",
    "\n",
    "split_at = len(train_x) - len(train_x) // 10\n",
    "(x_train, x_val) = train_x[:split_at], train_x[split_at:]\n",
    "(y_train, y_val) = train_y[:split_at], train_y[split_at:]\n",
    "\n",
    "print('Training Data:')\n",
    "print(x_train.shape)\n",
    "print(y_train.shape)\n",
    "\n",
    "print('Validation Data:')\n",
    "print(x_val.shape)\n",
    "print(y_val.shape)\n",
    "\n",
    "print('Testing Data:')\n",
    "print(test_x.shape)\n",
    "print(test_y.shape)"
   ]
  },
  {
   "cell_type": "code",
   "execution_count": 48,
   "metadata": {},
   "outputs": [
    {
     "name": "stdout",
     "output_type": "stream",
     "text": [
      "input:  [[[False False False False False False False False False  True False\n",
      "   False]\n",
      "  [False False False False False False False False False False  True\n",
      "   False]\n",
      "  [False False False False False False False  True False False False\n",
      "   False]\n",
      "  [False  True False False False False False False False False False\n",
      "   False]\n",
      "  [False False False False False False False False  True False False\n",
      "   False]\n",
      "  [False False False False False False False  True False False False\n",
      "   False]\n",
      "  [ True False False False False False False False False False False\n",
      "   False]]\n",
      "\n",
      " [[False False False  True False False False False False False False\n",
      "   False]\n",
      "  [False False False  True False False False False False False False\n",
      "   False]\n",
      "  [False False False False False False False False False  True False\n",
      "   False]\n",
      "  [False  True False False False False False False False False False\n",
      "   False]\n",
      "  [False False False False False False  True False False False False\n",
      "   False]\n",
      "  [False False False False False False False False False False  True\n",
      "   False]\n",
      "  [ True False False False False False False False False False False\n",
      "   False]]\n",
      "\n",
      " [[False False False False False False False False False  True False\n",
      "   False]\n",
      "  [False False False False False False False False  True False False\n",
      "   False]\n",
      "  [False  True False False False False False False False False False\n",
      "   False]\n",
      "  [False False False False False  True False False False False False\n",
      "   False]\n",
      "  [False False False False False  True False False False False False\n",
      "   False]\n",
      "  [ True False False False False False False False False False False\n",
      "   False]\n",
      "  [ True False False False False False False False False False False\n",
      "   False]]] \n",
      "\n",
      " label:  [[[False False False False False False False  True False False False\n",
      "   False]\n",
      "  [False False False  True False False False False False False False\n",
      "   False]\n",
      "  [False False  True False False False False False False False False\n",
      "   False]\n",
      "  [False False False False  True False False False False False False\n",
      "   False]\n",
      "  [False False False False False False False  True False False False\n",
      "   False]\n",
      "  [ True False False False False False False False False False False\n",
      "   False]]\n",
      "\n",
      " [[False False False False False False False  True False False False\n",
      "   False]\n",
      "  [False False False False False False False False  True False False\n",
      "   False]\n",
      "  [False False False  True False False False False False False False\n",
      "   False]\n",
      "  [False False False False False False False False  True False False\n",
      "   False]\n",
      "  [ True False False False False False False False False False False\n",
      "   False]\n",
      "  [ True False False False False False False False False False False\n",
      "   False]]\n",
      "\n",
      " [[False False False False  True False False False False False False\n",
      "   False]\n",
      "  [False False False False False False False  True False False False\n",
      "   False]\n",
      "  [False False  True False False False False False False False False\n",
      "   False]\n",
      "  [False False False False False False False False False False  True\n",
      "   False]\n",
      "  [ True False False False False False False False False False False\n",
      "   False]\n",
      "  [ True False False False False False False False False False False\n",
      "   False]]]\n"
     ]
    }
   ],
   "source": [
    "print(\"input: \", x_train[:3], '\\n\\n', \"label: \", y_train[:3])"
   ]
  },
  {
   "cell_type": "markdown",
   "metadata": {},
   "source": [
    "# Build Model"
   ]
  },
  {
   "cell_type": "code",
   "execution_count": 49,
   "metadata": {
    "scrolled": true
   },
   "outputs": [
    {
     "name": "stdout",
     "output_type": "stream",
     "text": [
      "Build model...\n",
      "_________________________________________________________________\n",
      "Layer (type)                 Output Shape              Param #   \n",
      "=================================================================\n",
      "lstm_5 (LSTM)                (None, 100)               45200     \n",
      "_________________________________________________________________\n",
      "repeat_vector_3 (RepeatVecto (None, 6, 100)            0         \n",
      "_________________________________________________________________\n",
      "lstm_6 (LSTM)                (None, 6, 80)             57920     \n",
      "_________________________________________________________________\n",
      "time_distributed_3 (TimeDist (None, 6, 12)             972       \n",
      "=================================================================\n",
      "Total params: 104,092\n",
      "Trainable params: 104,092\n",
      "Non-trainable params: 0\n",
      "_________________________________________________________________\n"
     ]
    }
   ],
   "source": [
    "from keras import metrics\n",
    "print('Build model...')\n",
    "\n",
    "############################################\n",
    "##### Build your own model here ############\n",
    "############################################\n",
    "model = Sequential()\n",
    "model.add(RNN(100, input_shape=(MAXLEN, len(chars))))\n",
    "model.add(RepeatVector(DIGITS*2))\n",
    "model.add(RNN(80, return_sequences=True))\n",
    "model.add(TimeDistributed(Dense(12, activation='softmax')))\n",
    "model.compile(loss='categorical_crossentropy', optimizer='adam', metrics=['accuracy'])\n",
    "model.summary()"
   ]
  },
  {
   "cell_type": "markdown",
   "metadata": {},
   "source": [
    "# Training"
   ]
  },
  {
   "cell_type": "code",
   "execution_count": 52,
   "metadata": {
    "scrolled": false
   },
   "outputs": [
    {
     "name": "stdout",
     "output_type": "stream",
     "text": [
      "\n",
      "--------------------------------------------------\n",
      "Train on 36000 samples, validate on 4000 samples\n",
      "Epoch 1/100\n",
      "36000/36000 [==============================] - 21s 579us/step - loss: 1.6041 - acc: 0.3821 - val_loss: 1.5518 - val_acc: 0.3974\n",
      "Epoch 2/100\n",
      "36000/36000 [==============================] - 20s 568us/step - loss: 1.5145 - acc: 0.4107 - val_loss: 1.4923 - val_acc: 0.4106\n",
      "Epoch 3/100\n",
      "36000/36000 [==============================] - 21s 572us/step - loss: 1.4435 - acc: 0.4313 - val_loss: 1.4130 - val_acc: 0.4434\n",
      "Epoch 4/100\n",
      "36000/36000 [==============================] - 21s 577us/step - loss: 1.3948 - acc: 0.4470 - val_loss: 1.3777 - val_acc: 0.4449\n",
      "Epoch 5/100\n",
      "36000/36000 [==============================] - 21s 578us/step - loss: 1.3676 - acc: 0.4571 - val_loss: 1.3503 - val_acc: 0.4675\n",
      "Epoch 6/100\n",
      "36000/36000 [==============================] - 21s 578us/step - loss: 1.3401 - acc: 0.4680 - val_loss: 1.3296 - val_acc: 0.4696\n",
      "Epoch 7/100\n",
      "36000/36000 [==============================] - 21s 575us/step - loss: 1.3185 - acc: 0.4768 - val_loss: 1.3051 - val_acc: 0.4791\n",
      "Epoch 8/100\n",
      "36000/36000 [==============================] - 21s 583us/step - loss: 1.2992 - acc: 0.4849 - val_loss: 1.2847 - val_acc: 0.4900\n",
      "Epoch 9/100\n",
      "36000/36000 [==============================] - 21s 577us/step - loss: 1.2850 - acc: 0.4898 - val_loss: 1.2886 - val_acc: 0.4845\n",
      "Epoch 10/100\n",
      "36000/36000 [==============================] - 21s 580us/step - loss: 1.2671 - acc: 0.4978 - val_loss: 1.2630 - val_acc: 0.4965\n",
      "Epoch 11/100\n",
      "36000/36000 [==============================] - 21s 582us/step - loss: 1.2518 - acc: 0.5050 - val_loss: 1.2375 - val_acc: 0.5089\n",
      "Epoch 12/100\n",
      "36000/36000 [==============================] - 21s 584us/step - loss: 1.2309 - acc: 0.5146 - val_loss: 1.2685 - val_acc: 0.4759\n",
      "Epoch 13/100\n",
      "36000/36000 [==============================] - 21s 582us/step - loss: 1.2158 - acc: 0.5195 - val_loss: 1.2249 - val_acc: 0.5051\n",
      "Epoch 14/100\n",
      "36000/36000 [==============================] - 21s 584us/step - loss: 1.1994 - acc: 0.5263 - val_loss: 1.2186 - val_acc: 0.5017\n",
      "Epoch 15/100\n",
      "36000/36000 [==============================] - 21s 581us/step - loss: 1.1841 - acc: 0.5332 - val_loss: 1.1731 - val_acc: 0.5339\n",
      "Epoch 16/100\n",
      "36000/36000 [==============================] - 21s 585us/step - loss: 1.1682 - acc: 0.5393 - val_loss: 1.1617 - val_acc: 0.5393\n",
      "Epoch 17/100\n",
      "36000/36000 [==============================] - 21s 590us/step - loss: 1.1571 - acc: 0.5427 - val_loss: 1.1536 - val_acc: 0.5401\n",
      "Epoch 18/100\n",
      "36000/36000 [==============================] - 21s 597us/step - loss: 1.1410 - acc: 0.5502 - val_loss: 1.1379 - val_acc: 0.5514\n",
      "Epoch 19/100\n",
      "36000/36000 [==============================] - 21s 582us/step - loss: 1.1248 - acc: 0.5595 - val_loss: 1.1332 - val_acc: 0.5473\n",
      "Epoch 20/100\n",
      "36000/36000 [==============================] - 21s 583us/step - loss: 1.1147 - acc: 0.5630 - val_loss: 1.1395 - val_acc: 0.5390\n",
      "Epoch 21/100\n",
      "36000/36000 [==============================] - 23s 640us/step - loss: 1.1008 - acc: 0.5711 - val_loss: 1.1077 - val_acc: 0.5672\n",
      "Epoch 22/100\n",
      "36000/36000 [==============================] - 22s 601us/step - loss: 1.0875 - acc: 0.5763 - val_loss: 1.0862 - val_acc: 0.5790\n",
      "Epoch 23/100\n",
      "36000/36000 [==============================] - 21s 588us/step - loss: 1.0764 - acc: 0.5830 - val_loss: 1.0744 - val_acc: 0.5844\n",
      "Epoch 24/100\n",
      "36000/36000 [==============================] - 21s 586us/step - loss: 1.0611 - acc: 0.5925 - val_loss: 1.0822 - val_acc: 0.5812\n",
      "Epoch 25/100\n",
      "36000/36000 [==============================] - 21s 584us/step - loss: 1.0429 - acc: 0.6034 - val_loss: 1.0551 - val_acc: 0.5909\n",
      "Epoch 26/100\n",
      "36000/36000 [==============================] - 21s 582us/step - loss: 1.0233 - acc: 0.6153 - val_loss: 1.0451 - val_acc: 0.5947\n",
      "Epoch 27/100\n",
      "36000/36000 [==============================] - 22s 609us/step - loss: 1.0071 - acc: 0.6221 - val_loss: 0.9890 - val_acc: 0.6335\n",
      "Epoch 28/100\n",
      "36000/36000 [==============================] - 21s 579us/step - loss: 0.9834 - acc: 0.6340 - val_loss: 0.9901 - val_acc: 0.6296\n",
      "Epoch 29/100\n",
      "36000/36000 [==============================] - 22s 614us/step - loss: 0.9649 - acc: 0.6425 - val_loss: 0.9935 - val_acc: 0.6214\n",
      "Epoch 30/100\n",
      "36000/36000 [==============================] - 21s 587us/step - loss: 0.9440 - acc: 0.6510 - val_loss: 0.9401 - val_acc: 0.6510\n",
      "Epoch 31/100\n",
      "36000/36000 [==============================] - 21s 585us/step - loss: 0.9396 - acc: 0.6493 - val_loss: 0.9296 - val_acc: 0.6563\n",
      "Epoch 32/100\n",
      "36000/36000 [==============================] - 21s 587us/step - loss: 0.9143 - acc: 0.6623 - val_loss: 0.9394 - val_acc: 0.6416\n",
      "Epoch 33/100\n",
      "36000/36000 [==============================] - 21s 570us/step - loss: 0.9074 - acc: 0.6625 - val_loss: 0.9588 - val_acc: 0.6342\n",
      "Epoch 34/100\n",
      "36000/36000 [==============================] - 21s 576us/step - loss: 0.8976 - acc: 0.6662 - val_loss: 0.9141 - val_acc: 0.6572\n",
      "Epoch 35/100\n",
      "36000/36000 [==============================] - 21s 582us/step - loss: 0.8812 - acc: 0.6733 - val_loss: 0.8970 - val_acc: 0.6628\n",
      "Epoch 36/100\n",
      "36000/36000 [==============================] - 22s 604us/step - loss: 0.8758 - acc: 0.6741 - val_loss: 0.9115 - val_acc: 0.6459\n",
      "Epoch 37/100\n",
      "36000/36000 [==============================] - 21s 582us/step - loss: 0.8665 - acc: 0.6756 - val_loss: 0.8886 - val_acc: 0.6596\n",
      "Epoch 38/100\n",
      "36000/36000 [==============================] - 22s 608us/step - loss: 0.8607 - acc: 0.6773 - val_loss: 0.8834 - val_acc: 0.6594\n",
      "Epoch 39/100\n",
      "36000/36000 [==============================] - 23s 625us/step - loss: 0.8561 - acc: 0.6772 - val_loss: 0.8668 - val_acc: 0.6691\n",
      "Epoch 40/100\n",
      "36000/36000 [==============================] - 21s 583us/step - loss: 0.8471 - acc: 0.6805 - val_loss: 0.8505 - val_acc: 0.6756\n",
      "Epoch 41/100\n",
      "36000/36000 [==============================] - 21s 588us/step - loss: 0.8448 - acc: 0.6796 - val_loss: 0.8682 - val_acc: 0.6637\n",
      "Epoch 42/100\n",
      "36000/36000 [==============================] - 21s 580us/step - loss: 0.8346 - acc: 0.6841 - val_loss: 0.8387 - val_acc: 0.6785\n",
      "Epoch 43/100\n",
      "36000/36000 [==============================] - 21s 582us/step - loss: 0.8217 - acc: 0.6903 - val_loss: 0.8539 - val_acc: 0.6743\n",
      "Epoch 44/100\n",
      "36000/36000 [==============================] - 21s 581us/step - loss: 0.8204 - acc: 0.6879 - val_loss: 0.8395 - val_acc: 0.6753\n",
      "Epoch 45/100\n",
      "36000/36000 [==============================] - 21s 581us/step - loss: 0.8247 - acc: 0.6850 - val_loss: 0.8899 - val_acc: 0.6483\n",
      "Epoch 46/100\n",
      "36000/36000 [==============================] - 21s 583us/step - loss: 0.8140 - acc: 0.6896 - val_loss: 0.8605 - val_acc: 0.6590\n",
      "Epoch 47/100\n",
      "36000/36000 [==============================] - 21s 583us/step - loss: 0.8085 - acc: 0.6909 - val_loss: 0.8241 - val_acc: 0.6817\n",
      "Epoch 48/100\n",
      "36000/36000 [==============================] - 21s 584us/step - loss: 0.8057 - acc: 0.6927 - val_loss: 0.8736 - val_acc: 0.6500\n",
      "Epoch 49/100\n",
      "36000/36000 [==============================] - 21s 575us/step - loss: 0.7977 - acc: 0.6967 - val_loss: 0.8307 - val_acc: 0.6749\n",
      "Epoch 50/100\n",
      "36000/36000 [==============================] - 21s 585us/step - loss: 0.7975 - acc: 0.6944 - val_loss: 0.8521 - val_acc: 0.6646\n",
      "Epoch 51/100\n",
      "36000/36000 [==============================] - 21s 591us/step - loss: 0.7890 - acc: 0.6975 - val_loss: 0.8090 - val_acc: 0.6866\n",
      "Epoch 52/100\n",
      "36000/36000 [==============================] - 21s 582us/step - loss: 0.7933 - acc: 0.6954 - val_loss: 0.7963 - val_acc: 0.6930\n",
      "Epoch 53/100\n",
      "36000/36000 [==============================] - 21s 584us/step - loss: 0.7805 - acc: 0.7012 - val_loss: 0.7896 - val_acc: 0.6972\n",
      "Epoch 54/100\n",
      "36000/36000 [==============================] - 21s 591us/step - loss: 0.7761 - acc: 0.7028 - val_loss: 0.8142 - val_acc: 0.6808\n",
      "Epoch 55/100\n",
      "36000/36000 [==============================] - 21s 582us/step - loss: 0.7773 - acc: 0.7015 - val_loss: 0.7945 - val_acc: 0.6913\n",
      "Epoch 56/100\n",
      "36000/36000 [==============================] - 21s 578us/step - loss: 0.7783 - acc: 0.6986 - val_loss: 0.7995 - val_acc: 0.6890\n",
      "Epoch 57/100\n",
      "36000/36000 [==============================] - 21s 581us/step - loss: 0.7710 - acc: 0.7030 - val_loss: 0.8058 - val_acc: 0.6835\n",
      "Epoch 58/100\n"
     ]
    },
    {
     "name": "stdout",
     "output_type": "stream",
     "text": [
      "36000/36000 [==============================] - 20s 567us/step - loss: 0.7727 - acc: 0.7004 - val_loss: 0.8341 - val_acc: 0.6681\n",
      "Epoch 59/100\n",
      "36000/36000 [==============================] - 21s 573us/step - loss: 0.7643 - acc: 0.7052 - val_loss: 0.8119 - val_acc: 0.6802\n",
      "Epoch 60/100\n",
      "36000/36000 [==============================] - 21s 583us/step - loss: 0.7558 - acc: 0.7099 - val_loss: 0.8167 - val_acc: 0.6672\n",
      "Epoch 61/100\n",
      "36000/36000 [==============================] - 21s 585us/step - loss: 0.7657 - acc: 0.7024 - val_loss: 0.7841 - val_acc: 0.6923\n",
      "Epoch 62/100\n",
      "36000/36000 [==============================] - 21s 588us/step - loss: 0.7633 - acc: 0.7032 - val_loss: 0.8149 - val_acc: 0.6822\n",
      "Epoch 63/100\n",
      "36000/36000 [==============================] - 22s 599us/step - loss: 0.7493 - acc: 0.7110 - val_loss: 0.7733 - val_acc: 0.6950\n",
      "Epoch 64/100\n",
      "36000/36000 [==============================] - 21s 579us/step - loss: 0.7532 - acc: 0.7078 - val_loss: 0.7961 - val_acc: 0.6808\n",
      "Epoch 65/100\n",
      "36000/36000 [==============================] - 21s 580us/step - loss: 0.7437 - acc: 0.7118 - val_loss: 0.8000 - val_acc: 0.6820\n",
      "Epoch 66/100\n",
      "36000/36000 [==============================] - 21s 579us/step - loss: 0.7410 - acc: 0.7120 - val_loss: 0.7787 - val_acc: 0.6887\n",
      "Epoch 67/100\n",
      "36000/36000 [==============================] - 21s 583us/step - loss: 0.7379 - acc: 0.7142 - val_loss: 0.7660 - val_acc: 0.6982\n",
      "Epoch 68/100\n",
      "36000/36000 [==============================] - 21s 586us/step - loss: 0.7371 - acc: 0.7137 - val_loss: 0.7752 - val_acc: 0.6917\n",
      "Epoch 69/100\n",
      "36000/36000 [==============================] - 22s 605us/step - loss: 0.7373 - acc: 0.7121 - val_loss: 0.7897 - val_acc: 0.6833\n",
      "Epoch 70/100\n",
      "36000/36000 [==============================] - 21s 585us/step - loss: 0.7306 - acc: 0.7158 - val_loss: 0.7742 - val_acc: 0.6893\n",
      "Epoch 71/100\n",
      "36000/36000 [==============================] - 21s 588us/step - loss: 0.7245 - acc: 0.7191 - val_loss: 0.7622 - val_acc: 0.6957\n",
      "Epoch 72/100\n",
      "36000/36000 [==============================] - 21s 578us/step - loss: 0.7329 - acc: 0.7133 - val_loss: 0.7597 - val_acc: 0.6948\n",
      "Epoch 73/100\n",
      "36000/36000 [==============================] - 21s 578us/step - loss: 0.7203 - acc: 0.7207 - val_loss: 0.7635 - val_acc: 0.6955\n",
      "Epoch 74/100\n",
      "36000/36000 [==============================] - 21s 594us/step - loss: 0.7175 - acc: 0.7208 - val_loss: 0.7480 - val_acc: 0.7015\n",
      "Epoch 75/100\n",
      "36000/36000 [==============================] - 21s 586us/step - loss: 0.7166 - acc: 0.7208 - val_loss: 0.7499 - val_acc: 0.7005\n",
      "Epoch 76/100\n",
      "36000/36000 [==============================] - 21s 578us/step - loss: 0.7206 - acc: 0.7174 - val_loss: 0.7578 - val_acc: 0.6981\n",
      "Epoch 77/100\n",
      "36000/36000 [==============================] - 21s 579us/step - loss: 0.7111 - acc: 0.7230 - val_loss: 0.7729 - val_acc: 0.6931\n",
      "Epoch 78/100\n",
      "36000/36000 [==============================] - 21s 579us/step - loss: 0.7030 - acc: 0.7266 - val_loss: 0.7466 - val_acc: 0.7036\n",
      "Epoch 79/100\n",
      "36000/36000 [==============================] - 21s 570us/step - loss: 0.7023 - acc: 0.7263 - val_loss: 0.7525 - val_acc: 0.6960\n",
      "Epoch 80/100\n",
      "36000/36000 [==============================] - 20s 568us/step - loss: 0.7094 - acc: 0.7227 - val_loss: 0.7359 - val_acc: 0.7071\n",
      "Epoch 81/100\n",
      "36000/36000 [==============================] - 21s 570us/step - loss: 0.6992 - acc: 0.7267 - val_loss: 0.7499 - val_acc: 0.7036\n",
      "Epoch 82/100\n",
      "36000/36000 [==============================] - 21s 571us/step - loss: 0.6996 - acc: 0.7269 - val_loss: 0.7328 - val_acc: 0.7092\n",
      "Epoch 83/100\n",
      "36000/36000 [==============================] - 21s 577us/step - loss: 0.6986 - acc: 0.7271 - val_loss: 0.7286 - val_acc: 0.7103\n",
      "Epoch 84/100\n",
      "36000/36000 [==============================] - 21s 578us/step - loss: 0.6964 - acc: 0.7272 - val_loss: 0.7512 - val_acc: 0.6933\n",
      "Epoch 85/100\n",
      "36000/36000 [==============================] - 21s 577us/step - loss: 0.6925 - acc: 0.7289 - val_loss: 0.7305 - val_acc: 0.7083\n",
      "Epoch 86/100\n",
      "36000/36000 [==============================] - 21s 577us/step - loss: 0.6914 - acc: 0.7294 - val_loss: 0.7309 - val_acc: 0.7056\n",
      "Epoch 87/100\n",
      "36000/36000 [==============================] - 21s 579us/step - loss: 0.6855 - acc: 0.7328 - val_loss: 0.7567 - val_acc: 0.6925\n",
      "Epoch 88/100\n",
      "36000/36000 [==============================] - 21s 581us/step - loss: 0.6821 - acc: 0.7345 - val_loss: 0.7235 - val_acc: 0.7097\n",
      "Epoch 89/100\n",
      "36000/36000 [==============================] - 21s 583us/step - loss: 0.6879 - acc: 0.7308 - val_loss: 0.7426 - val_acc: 0.7015\n",
      "Epoch 90/100\n",
      "36000/36000 [==============================] - 21s 583us/step - loss: 0.6788 - acc: 0.7351 - val_loss: 0.7152 - val_acc: 0.7160\n",
      "Epoch 91/100\n",
      "36000/36000 [==============================] - 21s 581us/step - loss: 0.6942 - acc: 0.7278 - val_loss: 0.7504 - val_acc: 0.6989\n",
      "Epoch 92/100\n",
      "36000/36000 [==============================] - 21s 587us/step - loss: 0.6801 - acc: 0.7333 - val_loss: 0.7191 - val_acc: 0.7131\n",
      "Epoch 93/100\n",
      "36000/36000 [==============================] - 21s 594us/step - loss: 0.6714 - acc: 0.7381 - val_loss: 0.7134 - val_acc: 0.7170\n",
      "Epoch 94/100\n",
      "36000/36000 [==============================] - 21s 583us/step - loss: 0.6744 - acc: 0.7371 - val_loss: 0.7334 - val_acc: 0.7025\n",
      "Epoch 95/100\n",
      "36000/36000 [==============================] - 21s 590us/step - loss: 0.6806 - acc: 0.7318 - val_loss: 0.7249 - val_acc: 0.7105\n",
      "Epoch 96/100\n",
      "36000/36000 [==============================] - 21s 585us/step - loss: 0.6697 - acc: 0.7380 - val_loss: 0.7114 - val_acc: 0.7157\n",
      "Epoch 97/100\n",
      "36000/36000 [==============================] - 21s 591us/step - loss: 0.6642 - acc: 0.7402 - val_loss: 0.7225 - val_acc: 0.7127\n",
      "Epoch 98/100\n",
      "36000/36000 [==============================] - 21s 591us/step - loss: 0.6650 - acc: 0.7399 - val_loss: 0.7129 - val_acc: 0.7157\n",
      "Epoch 99/100\n",
      "36000/36000 [==============================] - 22s 599us/step - loss: 0.6785 - acc: 0.7327 - val_loss: 0.7259 - val_acc: 0.7065\n",
      "Epoch 100/100\n",
      "36000/36000 [==============================] - 21s 587us/step - loss: 0.6564 - acc: 0.7440 - val_loss: 0.7267 - val_acc: 0.7048\n"
     ]
    }
   ],
   "source": [
    "print()\n",
    "print('-' * 50)\n",
    "#print('Iteration', iteration)\n",
    "result = model.fit(x_train, y_train,\n",
    "            batch_size=BATCH_SIZE,\n",
    "            epochs=100,\n",
    "            validation_data=(x_val, y_val))\n",
    "\n",
    "def print_result():    \n",
    "    for i in range(10):\n",
    "        ind = np.random.randint(0, len(x_val))\n",
    "        rowx, rowy = x_val[np.array([ind])], y_val[np.array([ind])]\n",
    "        preds = model.predict_classes(rowx, verbose=0)\n",
    "        q = ctable.decode(rowx[0])\n",
    "        correct = ctable.decode(rowy[0])\n",
    "        guess = ctable.decode(preds[0], calc_argmax=False)\n",
    "        print('Q', q[::-1] if REVERSE else q, end=' ')\n",
    "        print('T', correct, end=' ')\n",
    "        if correct == guess:\n",
    "            print(colors.ok + '☑' + colors.close, end=' ')\n",
    "        else:\n",
    "            print(colors.fail + '☒' + colors.close, end=' ')\n",
    "        print(guess)"
   ]
  },
  {
   "cell_type": "code",
   "execution_count": 53,
   "metadata": {
    "scrolled": true
   },
   "outputs": [
    {
     "data": {
      "text/plain": [
       "Text(0,0.5,'Accuracy')"
      ]
     },
     "execution_count": 53,
     "metadata": {},
     "output_type": "execute_result"
    },
    {
     "data": {
      "image/png": "[encoded data removed]",
      "text/plain": [
       "<Figure size 432x288 with 1 Axes>"
      ]
     },
     "metadata": {},
     "output_type": "display_data"
    }
   ],
   "source": [
    "plt.plot(result.history['acc'])\n",
    "plt.title(\"Model Accuracy\")\n",
    "plt.xlabel(\"Epoch\")\n",
    "plt.ylabel(\"Accuracy\")"
   ]
  },
  {
   "cell_type": "code",
   "execution_count": 54,
   "metadata": {},
   "outputs": [],
   "source": [
    "with open('DIGIT-3(mul,training_size = 36000).json','w') as f:\n",
    "    json.dump(result.history,f)"
   ]
  },
  {
   "cell_type": "markdown",
   "metadata": {},
   "source": [
    "# Testing"
   ]
  },
  {
   "cell_type": "code",
   "execution_count": 55,
   "metadata": {
    "scrolled": false
   },
   "outputs": [
    {
     "name": "stdout",
     "output_type": "stream",
     "text": [
      "MSG : Prediction\n",
      "0\n",
      "1000\n",
      "2000\n",
      "3000\n",
      "4000\n",
      "5000\n",
      "6000\n",
      "7000\n",
      "8000\n",
      "9000\n",
      "10000\n",
      "11000\n",
      "12000\n",
      "13000\n",
      "14000\n",
      "15000\n",
      "16000\n",
      "17000\n",
      "18000\n",
      "19000\n",
      "20000\n",
      "21000\n",
      "22000\n",
      "23000\n",
      "24000\n",
      "25000\n",
      "26000\n",
      "27000\n",
      "28000\n",
      "29000\n",
      "30000\n",
      "31000\n",
      "32000\n",
      "33000\n",
      "34000\n",
      "35000\n",
      "36000\n",
      "37000\n",
      "38000\n",
      "39000\n",
      "Accuracy:  0.124425\n"
     ]
    }
   ],
   "source": [
    "print(\"MSG : Prediction\")\n",
    "#####################################################\n",
    "## Try to test and evaluate your model ##############\n",
    "## ex. test_x = [\"555+175\", \"860+7  \", \"340+29 \"]\n",
    "## ex. test_y = [\"730 \", \"867 \", \"369 \"] \n",
    "#####################################################\n",
    "accur = 0 \n",
    "for i in range(len(test_x)):\n",
    "    ind = i\n",
    "    rowx, rowy = test_x[np.array([ind])], test_y[np.array([ind])]\n",
    "    preds = model.predict_classes(rowx, verbose=0)\n",
    "    q = ctable.decode(rowx[0])\n",
    "    correct = ctable.decode(rowy[0])\n",
    "    guess = ctable.decode(preds[0], calc_argmax=False)\n",
    "    if i % 1000 == 0:\n",
    "        print(i)\n",
    "    if correct == guess:\n",
    "        accur += 1\n",
    "accur = accur / len(test_x)\n",
    "print(\"Accuracy: \",accur)"
   ]
  },
  {
   "cell_type": "code",
   "execution_count": 56,
   "metadata": {},
   "outputs": [],
   "source": [
    "fp = open(\"Accuracy(mul,training_size = 36000).txt\", \"a\")\n",
    "fp.write(str(accur)+'\\n')\n",
    "fp.close()"
   ]
  },
  {
   "cell_type": "markdown",
   "metadata": {},
   "source": [
    "# Analysis\n",
    "### 1.Training data size = 36000\n",
    "### 2.Validation data size = 4000\n",
    "### 3.Test data size = 40000"
   ]
  },
  {
   "cell_type": "code",
   "execution_count": 59,
   "metadata": {},
   "outputs": [],
   "source": [
    "with open('DIGIT-3(mul,training_size = 36000).json','r') as f:\n",
    "    result = json.load(f)"
   ]
  },
  {
   "cell_type": "code",
   "execution_count": 60,
   "metadata": {
    "scrolled": true
   },
   "outputs": [
    {
     "data": {
      "image/png": "[encoded data removed]",
      "text/plain": [
       "<Figure size 1440x720 with 1 Axes>"
      ]
     },
     "metadata": {},
     "output_type": "display_data"
    }
   ],
   "source": [
    "plt.figure(figsize=(20,10))\n",
    "acc = result['acc']\n",
    "val_acc = result['val_acc']\n",
    "plt.plot(acc, label='Training accuracy of 3 digit')\n",
    "plt.plot(val_acc, label='Validation accuracy of 3 digit')\n",
    "plt.title('Accuracy',fontsize=16)\n",
    "plt.xlabel('Epochs', fontsize=16)\n",
    "plt.ylabel('Accuracy', fontsize=16)\n",
    "plt.legend(fontsize=14)\n",
    "plt.show()"
   ]
  },
  {
   "cell_type": "code",
   "execution_count": 61,
   "metadata": {
    "scrolled": true
   },
   "outputs": [
    {
     "name": "stdout",
     "output_type": "stream",
     "text": [
      "Test accuracy of 3 digit is  0.124425\n"
     ]
    }
   ],
   "source": [
    "Accuracy_data = open('Accuracy(mul,training_size = 36000).txt','r')\n",
    "io = Accuracy_data.readlines()\n",
    "print(\"Test accuracy of 3 digit is \",io[0][:-1])"
   ]
  },
  {
   "cell_type": "markdown",
   "metadata": {},
   "source": [
    "## Conclusion\n",
    "- Multiplication 部分直接將 training data size 變為 36000 做實驗，結果發現 model overfitting 了，training accuracy 跟 validation accuracy 很高，但最後的 test accuracy 卻只有 0.124425"
   ]
  }
 ],
 "metadata": {
  "kernelspec": {
   "display_name": "Python 3",
   "language": "python",
   "name": "python3"
  },
  "language_info": {
   "codemirror_mode": {
    "name": "ipython",
    "version": 3
   },
   "file_extension": ".py",
   "mimetype": "text/x-python",
   "name": "python",
   "nbconvert_exporter": "python",
   "pygments_lexer": "ipython3",
   "version": "3.6.5"
  }
 },
 "nbformat": 4,
 "nbformat_minor": 2
}
